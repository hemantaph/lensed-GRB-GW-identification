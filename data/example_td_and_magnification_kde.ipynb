{
 "cells": [
  {
   "cell_type": "markdown",
   "id": "949c7f04",
   "metadata": {},
   "source": [
    "# Example KDE computation goes here (to be filled by Hemanta)\n",
    "\n",
    "Here we do example $\\Delta t$ and $\\mu$ KDEs."
   ]
  },
  {
   "cell_type": "code",
   "execution_count": null,
   "id": "9690a4cd",
   "metadata": {
    "vscode": {
     "languageId": "plaintext"
    }
   },
   "outputs": [],
   "source": []
  }
 ],
 "metadata": {
  "language_info": {
   "name": "python"
  }
 },
 "nbformat": 4,
 "nbformat_minor": 5
}
