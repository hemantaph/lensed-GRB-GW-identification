{
 "cells": [
  {
   "cell_type": "code",
   "execution_count": 64,
   "id": "efd2c840",
   "metadata": {},
   "outputs": [],
   "source": [
    "# !pip install scienceplots\n",
    "# !pip install wget"
   ]
  },
  {
   "cell_type": "code",
   "execution_count": null,
   "id": "7b85c694",
   "metadata": {},
   "outputs": [],
   "source": [
    "# Downlaod GRB250313A light curve data (n0-n5) from Fermi GBM FTP server (note: Also n6, n7, n8, n9, na, nb available, but not used here)\n",
    "# The data is in FITS format, which is a standard format for astronomical data\n",
    "# Different n0, n1, n2, n3, n4, n5 correspond to different energy channels between ~8 keV and 1 MeV (maybe, according to CHATGPT lol)\n",
    "import wget\n",
    "filenames = ['glg_tte_n0_bn250313607_v00.fit', \n",
    "            'glg_tte_n1_bn250313607_v00.fit', \n",
    "            'glg_tte_n2_bn250313607_v00.fit', \n",
    "            'glg_tte_n3_bn250313607_v00.fit', \n",
    "            'glg_tte_n4_bn250313607_v00.fit', \n",
    "            'glg_tte_n5_bn250313607_v00.fit']\n",
    "urls = ['https://heasarc.gsfc.nasa.gov/FTP/fermi/data/gbm/triggers/2025/bn250313607/current/' + filename for filename in filenames]\n",
    "for url in urls:\n",
    "    wget.download(url) # download the file"
   ]
  },
  {
   "cell_type": "code",
   "execution_count": null,
   "id": "d3e867cb",
   "metadata": {},
   "outputs": [],
   "source": [
    "# Import necessary libraries; mainly astropy is used to read the fits files\n",
    "import scienceplots\n",
    "import pylab as plt\n",
    "plt.style.use(['science','ieee'])\n",
    "from astropy.io import fits\n",
    "import numpy as np\n",
    "import matplotlib.pyplot as plt"
   ]
  },
  {
   "cell_type": "code",
   "execution_count": null,
   "id": "7ca09dba",
   "metadata": {},
   "outputs": [],
   "source": [
    "# Plot the light curves for each of the 6 energy channels\n",
    "fig, ax = plt.subplots(6, 1, figsize=(15, 5*5)) # 6 rows, 1 column\n",
    "# Make one figure for each energy channel\n",
    "for i, filename in enumerate(filenames):\n",
    "    # Open the FITS file\n",
    "    with fits.open(filename) as hdul:\n",
    "        data = hdul['EVENTS'].data\n",
    "        photon_arrival_times = data['TIME']  # photon arrival times\n",
    "    # Bin the data to make a light curve\n",
    "    bin_width = 0.1 # seconds (change this to change the bin width) ; mainly for visualisation\n",
    "    t_min = photon_arrival_times.min()\n",
    "    t_max = photon_arrival_times.max()\n",
    "    bins = np.arange(t_min, t_max + bin_width, bin_width)\n",
    "    # Plot the light curve\n",
    "    ax[i].hist(photon_arrival_times, bins=bins, color='C0', histtype='step', lw=2)\n",
    "    ax[i].set_xlabel('Time (s)')\n",
    "    ax[i].set_ylabel(f'Counts per {bin_width:.1f}s')\n",
    "    ax[i].set_title(f'Light Curve: {filename}')\n",
    "    # ax[i].tight_layout()\n",
    "    ax[i].set_xlim(t_min, t_max)\n",
    "    ax[i].set_ylim(0, 750)\n",
    "plt.savefig('grb250313A_example_lightcurves.pdf', bbox_inches='tight')\n",
    "plt.show()"
   ]
  },
  {
   "cell_type": "code",
   "execution_count": null,
   "id": "03973ac3",
   "metadata": {},
   "outputs": [],
   "source": []
  }
 ],
 "metadata": {
  "kernelspec": {
   "display_name": "base",
   "language": "python",
   "name": "python3"
  },
  "language_info": {
   "codemirror_mode": {
    "name": "ipython",
    "version": 3
   },
   "file_extension": ".py",
   "mimetype": "text/x-python",
   "name": "python",
   "nbconvert_exporter": "python",
   "pygments_lexer": "ipython3",
   "version": "3.11.9"
  }
 },
 "nbformat": 4,
 "nbformat_minor": 5
}
