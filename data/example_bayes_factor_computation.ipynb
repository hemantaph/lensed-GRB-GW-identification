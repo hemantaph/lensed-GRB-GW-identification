{
 "cells": [
  {
   "cell_type": "markdown",
   "id": "bac5e47f",
   "metadata": {},
   "source": [
    "# Example Bayes factor computation goes here (to be filled by Hemanta)\n",
    "\n",
    "* Load data\n",
    "* Visualise data\n",
    "* Compute each component of $\\mathcal{B}_U^L = \\mathcal{B}_{\\mu_r} \\mathcal{B}_{\\Delta t} \\mathcal{B}_{sky} \\mathcal{B}_{spectral}$"
   ]
  },
  {
   "cell_type": "code",
   "execution_count": null,
   "id": "f3a3d3d3",
   "metadata": {},
   "outputs": [],
   "source": []
  }
 ],
 "metadata": {
  "kernelspec": {
   "display_name": "base",
   "language": "python",
   "name": "python3"
  },
  "language_info": {
   "name": "python",
   "version": "3.11.9"
  }
 },
 "nbformat": 4,
 "nbformat_minor": 5
}
